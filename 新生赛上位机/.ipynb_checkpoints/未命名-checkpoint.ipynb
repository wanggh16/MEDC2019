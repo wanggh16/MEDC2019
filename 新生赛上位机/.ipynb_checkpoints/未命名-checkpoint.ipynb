{
 "cells": [
  {
   "cell_type": "code",
   "execution_count": 1,
   "metadata": {},
   "outputs": [],
   "source": [
    "#coding=utf-8\n",
    "import serial,time,sys\n",
    "import numpy as np\n",
    "import matplotlib.pyplot as plt\n",
    "import serial.tools.list_ports\n",
    "import ipywidgets as widgets\t# 控件库\n",
    "from IPython.display import display\t# 显示控件的方法\n",
    "bps = 115200  # 波特率\n",
    "timex = None  # 超时设置,None：永远等待操作，0为立即返回请求结果，其他值为等待超时时间(单位为秒）\n",
    "\n",
    "down = 1374       #倒立位置ADC\n",
    "ADCaim = 2001   #平衡位置ADC\n",
    "ENCaim = 10000 #平衡位置ENC\n",
    "\n",
    "\n",
    "def inrange(adc,adc_aim):\n",
    "    if(degreeThreshold<adc_aim and adc_aim<4095-degreeThreshold):\n",
    "        if abs(adc-adc_aim)<degreeThreshold:\n",
    "            return True\n",
    "        else:\n",
    "            return False\n",
    "    elif(adc_aim<degreeThreshold):\n",
    "        if abs(adc-adc_aim)<degreeThreshold or adc>4095-(degreeThreshold-adc_aim):\n",
    "            return True\n",
    "        else:\n",
    "            return False\n",
    "    else:\n",
    "        if abs(adc-adc_aim)<degreeThreshold or adc<degreeThreshold-adc_aim:\n",
    "            return True\n",
    "        else:\n",
    "            return False\n",
    "         \n",
    "            \n",
    "def adc(adc1 , adc2):\n",
    "    ADC = adc1 * 64 + adc2\n",
    "    data_ADC.write(str(ADC)+'\\n')\n",
    "    #print(str(ADC))\n",
    "    return ADC\n",
    "\n",
    "def enc(enc1 , enc2 , enc3):\n",
    "    ENC = enc1 * 4096 + enc2 * 64 + enc3\n",
    "    data_ENC.write(str(ENC) + '\\n')\n",
    "    return ENC\n",
    "\n",
    "def ADC_graph(ADC,t):\n",
    "    t1=t*0.005\n",
    "    ax.append(t1)  # 添加 t 到 x 轴的数据中\n",
    "    ay.append(ADC)  # 添加 ADC到 y 轴的数据中\n",
    "    if t%50==0:\n",
    "        plt.clf()  # 清除之前画的图\n",
    "        plt.plot(ax, ay)  # 画出当前 ax 列表和 ay 列表中的值的图形\n",
    "        for i in range(0,t):\n",
    "            if inrange(ay[i],ADCaim):\n",
    "                plt.annotate(s=\"(\"+str(round(ax[i],3))+\",\"+str(ay[i])+\")\", xy=(round(ax[i],3), ay[i]), xytext=(-20, 10), textcoords='offset points')"
   ]
  },
  {
   "cell_type": "markdown",
   "metadata": {},
   "source": [
    "【1】用于搜寻本地可用的串口"
   ]
  },
  {
   "cell_type": "code",
   "execution_count": 2,
   "metadata": {},
   "outputs": [
    {
     "name": "stdout",
     "output_type": "stream",
     "text": [
      "check which port was really used > ['/dev/cu.Bluetooth-Incoming-Port', 'n/a', 'n/a']\n",
      "except: [Errno 16] could not open port /dev/cu.thulibiMac-Bluetooth-In: [Errno 16] Resource busy: '/dev/cu.thulibiMac-Bluetooth-In'\n",
      "except: [Errno 16] could not open port /dev/cu.limc-DevB: [Errno 16] Resource busy: '/dev/cu.limc-DevB'\n",
      "check which port was really used > ['/dev/cu.wchusbserial1410', 'USB2.0-Serial', 'USB VID:PID=1A86:7523 LOCATION=20-1']\n"
     ]
    }
   ],
   "source": [
    "port_list = list(serial.tools.list_ports.comports())\n",
    "if len(port_list) <= 0:\n",
    "    print(\"The Serial port can't find!\")\n",
    "\n",
    "else:\n",
    "    for portlist in port_list:\n",
    "        try:\n",
    "            port_list_0=list(portlist)\n",
    "            port_serial = port_list_0[0]\n",
    "            ser = serial.Serial(port_serial,115200,timeout = 1)\n",
    "            print(\"check which port was really used >\",port_list_0)\n",
    "        except BaseException as e:\n",
    "            print('except:', e)"
   ]
  },
  {
   "cell_type": "markdown",
   "metadata": {},
   "source": [
    "<e>【2】在下面配置参数</e>\n",
    "端口可以由上一个代码块查找到\n",
    "平衡位置的ADC和倒立目标的ADC需要由选手设定"
   ]
  },
  {
   "cell_type": "code",
   "execution_count": 3,
   "metadata": {},
   "outputs": [
    {
     "data": {
      "application/vnd.jupyter.widget-view+json": {
       "model_id": "ede63a1c6fdd4576b939ea19fd3193f7",
       "version_major": 2,
       "version_minor": 0
      },
      "text/plain": [
       "Box(children=(Text(value='/dev/cu.wchusbserial1410'), Button(description='更改串口名', style=ButtonStyle(), tooltip…"
      ]
     },
     "metadata": {},
     "output_type": "display_data"
    },
    {
     "data": {
      "application/vnd.jupyter.widget-view+json": {
       "model_id": "63f092064e0f4161ab3b07fbda397c0d",
       "version_major": 2,
       "version_minor": 0
      },
      "text/plain": [
       "Box(children=(Text(value='3489'), Button(description='更改平衡位置', style=ButtonStyle(), tooltip='changeADC')))"
      ]
     },
     "metadata": {},
     "output_type": "display_data"
    },
    {
     "data": {
      "application/vnd.jupyter.widget-view+json": {
       "model_id": "00d33ea91311476db225ef4c4b4506b6",
       "version_major": 2,
       "version_minor": 0
      },
      "text/plain": [
       "Box(children=(Text(value='10000'), Button(description='更改水平角度', style=ButtonStyle(), tooltip='changeENC')))"
      ]
     },
     "metadata": {},
     "output_type": "display_data"
    },
    {
     "name": "stdout",
     "output_type": "stream",
     "text": [
      "使用的串口为: /dev/cu.wchusbserial1410\n",
      "ADC设置为: 3489\n",
      "ENC设置为: 10000\n"
     ]
    }
   ],
   "source": [
    "text1 = widgets.Text('/dev/cu.wchusbserial1410')\n",
    "btn1 = widgets.Button(description = \"更改串口名\", tooltip = 'changePort')\n",
    "box1 = widgets.Box([text1,btn1])\n",
    "display(box1)\n",
    "text2 = widgets.Text('3489')\n",
    "btn2 = widgets.Button(description = \"更改平衡位置\", tooltip = 'changeADC')\n",
    "box2 = widgets.Box([text2,btn2])\n",
    "display(box2)\n",
    "text3 = widgets.Text('10000')\n",
    "btn3 = widgets.Button(description = \"更改水平角度\", tooltip = 'changeENC')\n",
    "box3 = widgets.Box([text3,btn3])\n",
    "display(box3)\n",
    "\n",
    "def btn_click_port(sender):\n",
    "    global portx\n",
    "    portx=text1.value\n",
    "    print(\"使用的串口为:\",portx)\n",
    "\n",
    "def btn_click_ADC(sender):\n",
    "    global ADCaim\n",
    "    ADCaim=text2.value\n",
    "    print(\"ADC设置为:\",ADCaim)\n",
    "\n",
    "def btn_click_ENC(sender):\n",
    "    global ENCaim\n",
    "    ENCaim=text3.value\n",
    "    print(\"ENC设置为:\",ENCaim)\n",
    "\n",
    "btn1.on_click(btn_click_port)\n",
    "btn2.on_click(btn_click_ADC)\n",
    "btn3.on_click(btn_click_ENC)\n",
    "    \n",
    "d=171#15度对应的ADC值\n",
    "rangeup=down+d     #165°时的ADC\n",
    "rangedown=down-d     #-165°时的ADC\n",
    "data_ADC = open('ADC.txt','w')\n",
    "data_ENC = open('ENC.txt','w')"
   ]
  },
  {
   "cell_type": "code",
   "execution_count": 6,
   "metadata": {},
   "outputs": [
    {
     "name": "stdout",
     "output_type": "stream",
     "text": [
      "串口详情参数： Serial<id=0x10f7fcb38, open=True>(port='/dev/cu.wchusbserial1410', baudrate=115200, bytesize=8, parity='N', stopbits=1, timeout=None, xonxoff=False, rtscts=False, dsrdtr=False)\n"
     ]
    },
    {
     "ename": "KeyboardInterrupt",
     "evalue": "",
     "output_type": "error",
     "traceback": [
      "\u001b[0;31m---------------------------------------------------------------------------\u001b[0m",
      "\u001b[0;31mKeyboardInterrupt\u001b[0m                         Traceback (most recent call last)",
      "\u001b[0;32m<ipython-input-6-919a01c640fa>\u001b[0m in \u001b[0;36m<module>\u001b[0;34m\u001b[0m\n\u001b[1;32m     21\u001b[0m         \u001b[0;32mwhile\u001b[0m \u001b[0;32mTrue\u001b[0m\u001b[0;34m:\u001b[0m\u001b[0;34m\u001b[0m\u001b[0m\n\u001b[1;32m     22\u001b[0m                 \u001b[0mtime\u001b[0m\u001b[0;34m.\u001b[0m\u001b[0msleep\u001b[0m\u001b[0;34m(\u001b[0m\u001b[0;36m0.001\u001b[0m\u001b[0;34m)\u001b[0m\u001b[0;34m\u001b[0m\u001b[0m\n\u001b[0;32m---> 23\u001b[0;31m                 \u001b[0ma\u001b[0m\u001b[0;34m=\u001b[0m\u001b[0mord\u001b[0m\u001b[0;34m(\u001b[0m\u001b[0mser\u001b[0m\u001b[0;34m.\u001b[0m\u001b[0mread\u001b[0m\u001b[0;34m(\u001b[0m\u001b[0;36m1\u001b[0m\u001b[0;34m)\u001b[0m\u001b[0;34m)\u001b[0m\u001b[0;34m\u001b[0m\u001b[0m\n\u001b[0m\u001b[1;32m     24\u001b[0m                 \u001b[0;32mif\u001b[0m \u001b[0ma\u001b[0m \u001b[0;34m==\u001b[0m \u001b[0;36m0x7a\u001b[0m\u001b[0;34m:\u001b[0m\u001b[0;34m\u001b[0m\u001b[0m\n\u001b[1;32m     25\u001b[0m                     \u001b[0mt\u001b[0m \u001b[0;34m=\u001b[0m \u001b[0mt\u001b[0m \u001b[0;34m+\u001b[0m \u001b[0;36m1\u001b[0m\u001b[0;34m\u001b[0m\u001b[0m\n",
      "\u001b[0;32m/Library/Frameworks/Python.framework/Versions/3.6/lib/python3.6/site-packages/serial/serialposix.py\u001b[0m in \u001b[0;36mread\u001b[0;34m(self, size)\u001b[0m\n\u001b[1;32m    481\u001b[0m         \u001b[0;32mwhile\u001b[0m \u001b[0mlen\u001b[0m\u001b[0;34m(\u001b[0m\u001b[0mread\u001b[0m\u001b[0;34m)\u001b[0m \u001b[0;34m<\u001b[0m \u001b[0msize\u001b[0m\u001b[0;34m:\u001b[0m\u001b[0;34m\u001b[0m\u001b[0m\n\u001b[1;32m    482\u001b[0m             \u001b[0;32mtry\u001b[0m\u001b[0;34m:\u001b[0m\u001b[0;34m\u001b[0m\u001b[0m\n\u001b[0;32m--> 483\u001b[0;31m                 \u001b[0mready\u001b[0m\u001b[0;34m,\u001b[0m \u001b[0m_\u001b[0m\u001b[0;34m,\u001b[0m \u001b[0m_\u001b[0m \u001b[0;34m=\u001b[0m \u001b[0mselect\u001b[0m\u001b[0;34m.\u001b[0m\u001b[0mselect\u001b[0m\u001b[0;34m(\u001b[0m\u001b[0;34m[\u001b[0m\u001b[0mself\u001b[0m\u001b[0;34m.\u001b[0m\u001b[0mfd\u001b[0m\u001b[0;34m,\u001b[0m \u001b[0mself\u001b[0m\u001b[0;34m.\u001b[0m\u001b[0mpipe_abort_read_r\u001b[0m\u001b[0;34m]\u001b[0m\u001b[0;34m,\u001b[0m \u001b[0;34m[\u001b[0m\u001b[0;34m]\u001b[0m\u001b[0;34m,\u001b[0m \u001b[0;34m[\u001b[0m\u001b[0;34m]\u001b[0m\u001b[0;34m,\u001b[0m \u001b[0mtimeout\u001b[0m\u001b[0;34m.\u001b[0m\u001b[0mtime_left\u001b[0m\u001b[0;34m(\u001b[0m\u001b[0;34m)\u001b[0m\u001b[0;34m)\u001b[0m\u001b[0;34m\u001b[0m\u001b[0m\n\u001b[0m\u001b[1;32m    484\u001b[0m                 \u001b[0;32mif\u001b[0m \u001b[0mself\u001b[0m\u001b[0;34m.\u001b[0m\u001b[0mpipe_abort_read_r\u001b[0m \u001b[0;32min\u001b[0m \u001b[0mready\u001b[0m\u001b[0;34m:\u001b[0m\u001b[0;34m\u001b[0m\u001b[0m\n\u001b[1;32m    485\u001b[0m                     \u001b[0mos\u001b[0m\u001b[0;34m.\u001b[0m\u001b[0mread\u001b[0m\u001b[0;34m(\u001b[0m\u001b[0mself\u001b[0m\u001b[0;34m.\u001b[0m\u001b[0mpipe_abort_read_r\u001b[0m\u001b[0;34m,\u001b[0m \u001b[0;36m1000\u001b[0m\u001b[0;34m)\u001b[0m\u001b[0;34m\u001b[0m\u001b[0m\n",
      "\u001b[0;31mKeyboardInterrupt\u001b[0m: "
     ]
    }
   ],
   "source": [
    "\n",
    "\n",
    "degreeThreshold=171\n",
    "ADCaim=int(ADCaim)\n",
    "ENCaim=int(ENCaim)\n",
    "\n",
    "try:\n",
    "    ser = serial.Serial(portx, bps, timeout=timex)  # 打开串口，并得到串口对象\n",
    "    ax = []  # 定义一个 x 轴的空列表用来接收动态的数据\n",
    "    ay = []  # 定义一个 y 轴的空列表用来接收动态的数据\n",
    "    plt.ion()  # 开启一个画图的窗口\n",
    "    t = -1 #5ms\n",
    "    endCount=0 \n",
    "    start_flag=0\n",
    "    plt.show()\n",
    "    \n",
    "    if ser.is_open:\n",
    "        print(\"串口详情参数：\", ser)\n",
    "        time.sleep(0.1)\n",
    "        while True:\n",
    "                time.sleep(0.001)\n",
    "                a=ord(ser.read(1))\n",
    "                if a == 0x7a:\n",
    "                    t = t + 1\n",
    "                    if t==0:\n",
    "                        ADC1 = ord(ser.read(1)) - 1\n",
    "                        ADC2 = ord(ser.read(1)) - 1\n",
    "                        ADC = adc(ADC1, ADC2)\n",
    "                        ENC1 = ord(ser.read(1)) - 1\n",
    "                        ENC2 = ord(ser.read(1)) - 1\n",
    "                        ENC3 = ord(ser.read(1)) - 1\n",
    "                        ENC=enc(ENC1, ENC2,ENC3)\n",
    "                        down=ADC#上电初始位置为ADC_down\n",
    "                        print('初始位置下，ADC=',down,'ENC=',ENC)\n",
    "                        ADCaim=(2048+down)%4095;\n",
    "                        print('目标位置，ADC=',ADCaim,'ENC=',ENCaim)\n",
    "                        continue\n",
    "                    else:\n",
    "                        ADC1 = ord(ser.read(1)) - 1\n",
    "                        ADC2 = ord(ser.read(1)) - 1\n",
    "                        ADC = adc(ADC1, ADC2)\n",
    "                        ENC1 = ord(ser.read(1)) - 1\n",
    "                        ENC2 = ord(ser.read(1)) - 1\n",
    "                        ENC3 = ord(ser.read(1)) - 1\n",
    "                        ENC = enc(ENC1, ENC2, ENC3)\n",
    "                        if start_flag==0 and not inrange(ADC,down):\n",
    "                            print('计时⌛️开始!')\n",
    "                            start_flag=1\n",
    "                            t=1\n",
    "                        if start_flag==1:\n",
    "                            ADC_graph(ADC, t)\n",
    "                    if start_flag==1 and inrange(ADC,ADCaim):\n",
    "                        endCount=endCount+1\n",
    "                    else:\n",
    "                        endCount=0\n",
    "                    if endCount==200:\n",
    "                        data_ADC.close()\n",
    "                        data_ADC = open('ADC.txt','a')\n",
    "                        data_ENC.close()\n",
    "                        data_ENC = open('ENC.txt', 'a')\n",
    "                        break\n",
    "    print('结束！')\n",
    "    ser.close()  # 关闭串口\n",
    "\n",
    "except Exception as e:\n",
    "    print(\"---异常---：\",e)\n",
    "    \n",
    "print('最终耗时:',t*0.005,'s')"
   ]
  },
  {
   "cell_type": "code",
   "execution_count": null,
   "metadata": {},
   "outputs": [],
   "source": []
  },
  {
   "cell_type": "code",
   "execution_count": null,
   "metadata": {},
   "outputs": [],
   "source": []
  }
 ],
 "metadata": {
  "kernelspec": {
   "display_name": "Python 3",
   "language": "python",
   "name": "python3"
  },
  "language_info": {
   "codemirror_mode": {
    "name": "ipython",
    "version": 3
   },
   "file_extension": ".py",
   "mimetype": "text/x-python",
   "name": "python",
   "nbconvert_exporter": "python",
   "pygments_lexer": "ipython3",
   "version": "3.6.2"
  }
 },
 "nbformat": 4,
 "nbformat_minor": 2
}
